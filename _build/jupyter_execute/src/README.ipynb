{
 "cells": [
  {
   "cell_type": "markdown",
   "metadata": {},
   "source": [
    "# Home "
   ]
  },
  {
   "cell_type": "markdown",
   "metadata": {},
   "source": [
    "## Index \n",
    "- Electronics and Communication Engineering \n",
    "    - [Analog Electronics](electronics/analog/analog)\n",
    "    - [Communication System](electronics/communication/communication)\n",
    "    - [Electromagnetic Field Theory](electronics/emft/emft)\n",
    "    - [Signal and Systems](electronics/signal-system/signal_system)\n",
    "\n",
    "- Computer Science and Engineering"
   ]
  }
 ],
 "metadata": {
  "language_info": {
   "codemirror_mode": {
    "name": "ipython",
    "version": 3
   },
   "file_extension": ".py",
   "mimetype": "text/x-python",
   "name": "python",
   "nbconvert_exporter": "python",
   "pygments_lexer": "ipython3",
   "version": "3.9.4"
  }
 },
 "nbformat": 4,
 "nbformat_minor": 2
}