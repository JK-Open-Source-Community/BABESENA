{
 "cells": [
  {
   "cell_type": "markdown",
   "metadata": {},
   "source": [
    "# Home "
   ]
  },
  {
   "cell_type": "markdown",
   "metadata": {},
   "source": [
    "## Index \n",
    "\n",
    "### Mathematics and Aptitude \n",
    "\n",
    "- [Mathematics](mathematics-aptitude/maths) \n",
    "- [Aptitude](mathematics-aptitude/aptitude)\n",
    "\n",
    "### Electronics and Communication Engineering \n",
    "\n",
    "- [Analog Electronics](electronics/analog/analog)\n",
    "- [Communication System](electronics/communication/communication)\n",
    "- [Electromagnetic Field Theory](electronics/emft/emft)\n",
    "- [Signal and Systems](electronics/signal-system/signal_system)\n",
    "\n",
    "### Computer Science and Engineering"
   ]
  }
 ],
 "metadata": {
  "language_info": {
   "name": "python"
  },
  "orig_nbformat": 4
 },
 "nbformat": 4,
 "nbformat_minor": 2
}
