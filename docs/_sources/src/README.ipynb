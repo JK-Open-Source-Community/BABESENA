{
 "cells": [
  {
   "cell_type": "markdown",
   "metadata": {},
   "source": [
    "# Home "
   ]
  },
  {
   "cell_type": "markdown",
   "metadata": {},
   "source": [
    "## Index \n",
    "- Electronics and Communication Engineering \n",
    "    - [Analog Electronics](electronics/analog/analog)\n",
    "    - [Communication System](electronics/communication/communication)\n",
    "    - [Electromagnetic Field Theory](electronics/emft/emft)\n",
    "    - [Signal and Systems](electronics/signal-system/signal_system)\n",
    "\n",
    "- Computer Science and Engineering"
   ]
  }
 ],
 "metadata": {
  "language_info": {
   "name": "python"
  },
  "orig_nbformat": 4
 },
 "nbformat": 4,
 "nbformat_minor": 2
}
