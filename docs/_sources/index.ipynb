{
 "cells": [
  {
   "cell_type": "markdown",
   "metadata": {},
   "source": [
    "# Home "
   ]
  },
  {
   "cell_type": "markdown",
   "metadata": {},
   "source": [
    "## Index \n",
    "\n",
    "### Mathematics and Aptitude \n",
    "\n",
    "- [Mathematics](src/mathematics-aptitude/maths) \n",
    "- [Aptitude](src/mathematics-aptitude/aptitude)\n",
    "\n",
    "### Electronics and Communication Engineering \n",
    "\n",
    "- [Analog Electronics](src/electronics/analog/analog)\n",
    "- [Communication System](src/electronics/communication/communication)\n",
    "- [Electromagnetic Field Theory](src/electronics/emft/emft)\n",
    "- [Signal and Systems](src/electronics/signal-system/signal_system)\n",
    "- [Control System](src/electronics/control-system/control_system)\n",
    "\n",
    "### Computer Science and Engineering"
   ]
  }
 ],
 "metadata": {
  "language_info": {
   "name": "python"
  },
  "orig_nbformat": 4
 },
 "nbformat": 4,
 "nbformat_minor": 2
}
